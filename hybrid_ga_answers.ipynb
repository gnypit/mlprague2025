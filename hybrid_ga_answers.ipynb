{
 "nbformat": 4,
 "nbformat_minor": 0,
 "metadata": {
  "colab": {
   "provenance": []
  },
  "kernelspec": {
   "name": "python3",
   "display_name": "Python 3"
  },
  "language_info": {
   "name": "python"
  }
 },
 "cells": [
  {
   "cell_type": "code",
   "source": [
    "!pip install pygad"
   ],
   "metadata": {
    "colab": {
     "base_uri": "https://localhost:8080/"
    },
    "id": "MgTLWQAjPFMb",
    "outputId": "44dc9517-b5e6-4d22-c5f3-4dbd80c48ef9",
    "ExecuteTime": {
     "end_time": "2025-04-28T10:10:54.504630Z",
     "start_time": "2025-04-28T10:10:50.839314Z"
    }
   },
   "outputs": [
    {
     "name": "stdout",
     "output_type": "stream",
     "text": [
      "Requirement already satisfied: pygad in c:\\users\\jg\\appdata\\local\\programs\\python\\python313\\lib\\site-packages (3.4.0)\n",
      "Requirement already satisfied: cloudpickle in c:\\users\\jg\\appdata\\local\\programs\\python\\python313\\lib\\site-packages (from pygad) (3.1.1)\n",
      "Requirement already satisfied: matplotlib in c:\\users\\jg\\appdata\\local\\programs\\python\\python313\\lib\\site-packages (from pygad) (3.10.0)\n",
      "Requirement already satisfied: numpy in c:\\users\\jg\\appdata\\local\\programs\\python\\python313\\lib\\site-packages (from pygad) (2.2.2)\n",
      "Requirement already satisfied: contourpy>=1.0.1 in c:\\users\\jg\\appdata\\local\\programs\\python\\python313\\lib\\site-packages (from matplotlib->pygad) (1.3.1)\n",
      "Requirement already satisfied: cycler>=0.10 in c:\\users\\jg\\appdata\\local\\programs\\python\\python313\\lib\\site-packages (from matplotlib->pygad) (0.12.1)\n",
      "Requirement already satisfied: fonttools>=4.22.0 in c:\\users\\jg\\appdata\\local\\programs\\python\\python313\\lib\\site-packages (from matplotlib->pygad) (4.55.3)\n",
      "Requirement already satisfied: kiwisolver>=1.3.1 in c:\\users\\jg\\appdata\\local\\programs\\python\\python313\\lib\\site-packages (from matplotlib->pygad) (1.4.8)\n",
      "Requirement already satisfied: packaging>=20.0 in c:\\users\\jg\\appdata\\local\\programs\\python\\python313\\lib\\site-packages (from matplotlib->pygad) (24.2)\n",
      "Requirement already satisfied: pillow>=8 in c:\\users\\jg\\appdata\\local\\programs\\python\\python313\\lib\\site-packages (from matplotlib->pygad) (11.1.0)\n",
      "Requirement already satisfied: pyparsing>=2.3.1 in c:\\users\\jg\\appdata\\local\\programs\\python\\python313\\lib\\site-packages (from matplotlib->pygad) (3.2.1)\n",
      "Requirement already satisfied: python-dateutil>=2.7 in c:\\users\\jg\\appdata\\local\\programs\\python\\python313\\lib\\site-packages (from matplotlib->pygad) (2.9.0.post0)\n",
      "Requirement already satisfied: six>=1.5 in c:\\users\\jg\\appdata\\local\\programs\\python\\python313\\lib\\site-packages (from python-dateutil>=2.7->matplotlib->pygad) (1.17.0)\n"
     ]
    }
   ],
   "execution_count": 1
  },
  {
   "cell_type": "code",
   "source": [
    "import random\n",
    "import matplotlib.pyplot as plt\n",
    "import numpy as np\n",
    "from numpy.random import binomial as np_binom\n",
    "from collections.abc import \\\n",
    "    Callable  # https://stackoverflow.com/questions/37835179/how-can-i-specify-the-function-type-in-my-type-hints\n",
    "from multiprocessing import Process, Manager, cpu_count\n",
    "from multiprocessing.managers import ListProxy, DictProxy\n",
    "import math\n",
    "import pygad"
   ],
   "metadata": {
    "id": "H30KLfm4LqOJ",
    "ExecuteTime": {
     "end_time": "2025-04-28T10:10:57.154737Z",
     "start_time": "2025-04-28T10:10:56.312295Z"
    }
   },
   "outputs": [],
   "execution_count": 2
  },
  {
   "cell_type": "markdown",
   "source": [
    "Global variable to hold IDs of chromosomes for backtracking"
   ],
   "metadata": {
    "id": "b7brKDIXLykp"
   }
  },
  {
   "cell_type": "code",
   "source": [
    "identification = 0"
   ],
   "metadata": {
    "id": "Jpk1u4vvLza7",
    "ExecuteTime": {
     "end_time": "2025-04-28T10:10:57.176051Z",
     "start_time": "2025-04-28T10:10:57.171147Z"
    }
   },
   "outputs": [],
   "execution_count": 3
  },
  {
   "cell_type": "markdown",
   "source": [
    "Couple of helpful functions"
   ],
   "metadata": {
    "id": "ZTXJyrGAPJjv"
   }
  },
  {
   "cell_type": "code",
   "source": [
    "def split_indexes(num_members, num_workers):\n",
    "    indexes = list(range(num_members))\n",
    "    return [indexes[i::num_workers] for i in range(num_workers)]"
   ],
   "metadata": {
    "id": "kjzm9_8EL2oV",
    "ExecuteTime": {
     "end_time": "2025-04-28T10:10:57.202173Z",
     "start_time": "2025-04-28T10:10:57.195870Z"
    }
   },
   "outputs": [],
   "execution_count": 4
  },
  {
   "cell_type": "code",
   "source": [
    "def sort_dict_by_fit(dictionary: dict) -> float:\n",
    "    \"\"\"Used as a key function for sorting a list of dictionaries by their 'fitness value'.\n",
    "\n",
    "    Parameters:\n",
    "        dictionary (dict): A dictionary with at least a 'fitness value' key.\n",
    "\n",
    "    Returns:\n",
    "        float: The fitness value to be used for sorting.\n",
    "    \"\"\"\n",
    "    return dictionary['fitness value']"
   ],
   "metadata": {
    "id": "nuhRVSfEL6DA",
    "ExecuteTime": {
     "end_time": "2025-04-28T10:10:57.233191Z",
     "start_time": "2025-04-28T10:10:57.228158Z"
    }
   },
   "outputs": [],
   "execution_count": 5
  },
  {
   "cell_type": "code",
   "source": [
    "def uniform_gene_generator(ga_args: dict):\n",
    "    \"\"\"Simple function for generating a sample of given length from the gene_space with a uniform probability.\n",
    "\n",
    "    Parameters:\n",
    "        ga_args (dict): This dictionary is stored within the GeneticAlgorithm class and contains info about args to be\n",
    "            used by either genome generator, crossover operators or selection operators. For the genome generation,\n",
    "            args are stored under key 'genome'. There should be gene space and length of chromosomes (their genome).\n",
    "\n",
    "    Returns:\n",
    "         ndarray: A numpy array containing genes randomised from the gene space. There should be at least two genes\n",
    "            in each chromosome, so this function should never return a single int, str, etc.\n",
    "    \"\"\"\n",
    "    gene_space, length = ga_args.get('genome')\n",
    "    return np.random.choice(gene_space, length)"
   ],
   "metadata": {
    "id": "QBcqekBXL89t",
    "ExecuteTime": {
     "end_time": "2025-04-28T10:10:57.259863Z",
     "start_time": "2025-04-28T10:10:57.253492Z"
    }
   },
   "outputs": [],
   "execution_count": 6
  },
  {
   "cell_type": "markdown",
   "source": [
    "Basic class for a Chromosome:"
   ],
   "metadata": {
    "id": "ISeSMNgcMA3A"
   }
  },
  {
   "cell_type": "code",
   "source": [
    "class Chromosome:\n",
    "    \"\"\"Basic class representing chromosomes, the most fundamental objects in genetic algorithms.\n",
    "\n",
    "    Apart from genes, in this implementation of the Genetic Algorithm, the Chromosome class also stores the fitness\n",
    "    function and value. This allows self-evaluation of each chromosome.\n",
    "\n",
    "    Attributes:\n",
    "        fit_val (float): Fitness value of the chromosome. None by default, stores a float number once the chromosome\n",
    "            is evaluated.\n",
    "        genome (type[list | dict | ListProxy | DictProxy]): Either list or a dictionary with genes of this chromosome in\n",
    "            a single-process implementation of the GA. For the multiple-processes implementation either ListProxy or\n",
    "            DictProxy.\n",
    "        manager (Manager): Manager from the multiprocessing package, necessary for genome storage in a shared memory\n",
    "            accessible by multiple processes.\n",
    "        fit_fun (Callable): Fitness function used for computing fitness value based on chromosome's genes.\n",
    "    \"\"\"\n",
    "    fit_val: float = None\n",
    "    genome: type[list | dict | ListProxy | DictProxy]\n",
    "    manager: Manager\n",
    "    fit_fun: Callable\n",
    "\n",
    "    def __init__(self, genome: type[list | dict], manager: Manager=None, fitness_function: Callable=None):\n",
    "        \"\"\"Constructor of the Chromosome class.\n",
    "\n",
    "        Each chromosome represents a possible solution to a given problem. Parameters characterising these solutions\n",
    "        are called genes; their set is sometimes referred to as 'genome'. They are supposed to be evaluated by the\n",
    "        fitness function. Then, based on the fitness (function's) values, they are compared, sorted, selected for\n",
    "        crossover, etc. However, this class is limited to storage of genes, fitness function and value, and to fitness\n",
    "        evaluation.\n",
    "\n",
    "        Parameters:\n",
    "            genome (type[list | dict]): Either a dict with genes as values and names provided by the User as keys,\n",
    "                or simply a list of genes.\n",
    "            manager (Manager): optional; Manager() from the multiprocessing package, required for creating the genome\n",
    "                attribute of this class in a shared memory between multiple, parallel processes in a manner which allows\n",
    "                access to the genome by these processes.\n",
    "            fitness_function (Callable=None): Optional; callable fitness function provided by the User, which computes\n",
    "                fitness value based on genome. Can be passed later, thus it is None by default.\n",
    "        \"\"\"\n",
    "        self.manager = manager  # should raise TypeError if it's not Manager() or None\n",
    "        if self.manager is None:\n",
    "            self.genome = genome\n",
    "        else:\n",
    "            if type(genome) == list:\n",
    "                self.genome = manager.list(genome)\n",
    "            elif type(genome) == dict:\n",
    "                self.genome = manager.dict(genome)\n",
    "            else:\n",
    "                raise TypeError(f\"Genome passed to the Chromosome class or it's children must be either a list or a \"\n",
    "                                f\"dict, and for multiprocessing implementation a Manager() class must be provided.\")\n",
    "        self.fit_fun = fitness_function  # special variable, Callable\n",
    "\n",
    "    def __repr__(self) -> str:\n",
    "        \"\"\"Default method for self-representing objects of this class.\"\"\"\n",
    "        return (f\"{type(self).__name__}(genes={self.genome}, fitness function={self.fit_fun}, \"\n",
    "                f\"fitness value={self.fit_val}), manager={self.manager}\")\n",
    "\n",
    "    def change_genes(self, new_genes: type[list | dict]):\n",
    "        \"\"\"Method meant to be used when mutation occurs, to modify the genes in an already created chromosome.\n",
    "\n",
    "        Parameters:\n",
    "            new_genes (type[list | dict]): New genome to be stored by the chromosome.\n",
    "        \"\"\"\n",
    "        if self.manager is None:\n",
    "            self.genome = new_genes\n",
    "        else:\n",
    "            if type(new_genes) == list:\n",
    "                self.genome = self.manager.list(new_genes)\n",
    "            elif type(new_genes) == dict:\n",
    "                self.genome = self.manager.dict(new_genes)\n",
    "            else:\n",
    "                raise TypeError(f\"Genome passed to the Chromosome class or it's children must be either a list or a \"\n",
    "                                f\"dict, and for multiprocessing implementation a Manager() class must be provided.\")\n",
    "\n",
    "    def evaluate(self, fitness_function: Callable=None):\n",
    "        \"\"\"Method for applying fitness function to this chromosome (it's genes, to be precise).\n",
    "\n",
    "        If the fitness function was passed on in the constructor of this class, it has to be provided as an argument of\n",
    "        this method. Fitness value returned by this method is also remembered in an attribute of this class. If no\n",
    "        fitness function is provided, the fitness value assigned by default is 0.\n",
    "\n",
    "        Parameters:\n",
    "            fitness_function (Callable=None): Optional; callable fitness function provided by the User, which computes\n",
    "                fitness value based on genome. Could have already been provided in the constructor,\n",
    "                thus it is None by default.\n",
    "\n",
    "        Returns:\n",
    "            float: Fitness value as a float number.\n",
    "        \"\"\"\n",
    "        try:\n",
    "            if self.fit_fun is not None:\n",
    "                self.fit_val = self.fit_fun(self.genome)\n",
    "            elif fitness_function is not None:\n",
    "                self.fit_fun = fitness_function\n",
    "                self.fit_val = self.fit_fun(self.genome)\n",
    "            else:\n",
    "                print(f\"Warning: no fitness function available for {self}\")\n",
    "                self.fit_val = 0.0\n",
    "        except Exception as e:\n",
    "            print(f\"Error evaluating member {self}: {e}\")\n",
    "            self.fit_val = 0.0\n",
    "        return self.fit_val"
   ],
   "metadata": {
    "id": "tQaL4eeQMDGs",
    "ExecuteTime": {
     "end_time": "2025-04-28T10:10:57.294498Z",
     "start_time": "2025-04-28T10:10:57.283518Z"
    }
   },
   "outputs": [],
   "execution_count": 7
  },
  {
   "cell_type": "markdown",
   "source": [
    "Based on the Chromosome class we have a Member class, which allows trakcing Chromosome - now Members - from the history of the GA"
   ],
   "metadata": {
    "id": "h6r6WA7nMLry"
   }
  },
  {
   "cell_type": "code",
   "source": [
    "class Member(Chromosome):\n",
    "    \"\"\"This class is a child of the 'Chromosome' class and is designated to store a unique ID, enabling tracking a\n",
    "    genealogical tree of chromosomes in a population of a genetic algorithm.\n",
    "\n",
    "    Attributes:\n",
    "        id (int): A unique identification number of this member in the particular run of a genetic algorithm, created\n",
    "            based on a global variable. It is meant for backtracking of a genological tree of members.\n",
    "        parents_id (list): It's a list with IDs of the parents (from previous generations in the GA) of this member\n",
    "    \"\"\"\n",
    "    id: int\n",
    "    parents_id: list = []\n",
    "\n",
    "    def __init__(self, genome: type[list | dict], identification_number: int, fitness_function=None):\n",
    "        \"\"\"Apart from what 'Chromosome' class constructor needs, here identification number should be passed.\n",
    "\n",
    "        Parameters:\n",
    "            genome (type[list | dict]): Either a dict with genes as values and names provided by the User as keys,\n",
    "                or simply a list of genes.\n",
    "            identification_number (int): An ID to be created based on the global variable, for backtracking a\n",
    "                genological tree of all members across different generations in a praticular run of the GA.\n",
    "            fitness_function (Callable=None): Optional; callable fitness function provided by the User, which computes\n",
    "                fitness value based on genome. Can be passed later, thus it is None by default.\n",
    "        \"\"\"\n",
    "        super().__init__(genome=genome, fitness_function=fitness_function)\n",
    "        self.id = identification_number\n",
    "\n",
    "    def add_parents_id(self, parents_id: list):\n",
    "        \"\"\"This method is meant for 'genealogical tree' tracking; it assigns to the current member IDs of its parents.\n",
    "\n",
    "        Parameters:\n",
    "            parents_id (list): A list with IDs of members which are parents to this member, inside the GA.\n",
    "        \"\"\"\n",
    "        self.parents_id = parents_id\n",
    "\n",
    "    def __repr__(self) -> str:\n",
    "        \"\"\"Default method for self-representing objects of this class.\"\"\"\n",
    "        return f\"{type(self).__name__}(genes={self.genome}, id={self.id}, parents_id={self.parents_id})\""
   ],
   "metadata": {
    "id": "sHC3-FlBMZUz",
    "ExecuteTime": {
     "end_time": "2025-04-28T10:10:57.316685Z",
     "start_time": "2025-04-28T10:10:57.310228Z"
    }
   },
   "outputs": [],
   "execution_count": 8
  },
  {
   "cell_type": "markdown",
   "source": [
    "Now, a class that holdes a single Generation, which is a list of Members in any iteration of the GA"
   ],
   "metadata": {
    "id": "IK7jpL5eMvPp"
   }
  },
  {
   "cell_type": "code",
   "source": [
    "class Generation:\n",
    "    \"\"\"This class is meant to represent a single generation in a genetic algorithm, i.e. a set of Members.\n",
    "\n",
    "    Genetic Algorithm evaluates each Generation, selects Members for a crossover, to create Members for a new\n",
    "    Generation. In the long run the goal is to create a Generation with Members having very high fitness values.\n",
    "    Each Generation is in a way static. This means, that once created, its Members may only be mutated and evaluated.\n",
    "    Inside an instance of the GeneticAlgorithm class multiple Generations might be stored at the same time.\n",
    "\n",
    "    Current Generation: the initial Generation is treated as the current one in the first iteration of the algorithm. Members\n",
    "    of the first Generation will sometimes be called 'parents'.\n",
    "\n",
    "    New / rival Generation: depending on a classical / parallel variant of the algorithm, based on 'parent' Members from\n",
    "    the current Generation one (new) or multiple (rival) Generations of 'children' Members are created, from crossovers\n",
    "    between selected 'parents'.\n",
    "\n",
    "    Accepted Generation: this Generation will become the 'current' one in the next iteration of the algorithm. Either\n",
    "    a single new Generation is an accepted Generation, or based on a provided metric, the best one from rival\n",
    "    Generations is accepted.\n",
    "\n",
    "    Attributes:\n",
    "        members (list[Member]): list of Members; chromosomes of the generation with their and parents' IDs.\n",
    "        num_parents_pairs (int): number of pairs of Members can be parents, e.g., 20 pairs means 40 mating chromosomes.\n",
    "        elite_size (int): number of Members to be copy-pasted directly into a new Generation.\n",
    "        pool_size (int): parameter for the tournament selection operator.  # TODO: redundant, put it into args in the GeneticAlgorithm class\n",
    "        size (int): number of Members in the generation.\n",
    "        fitness_ranking (list[dict]): dicts in this list have the index of a Member in the Generation as keys and its\n",
    "            fitness value as values.\n",
    "    \"\"\"\n",
    "    members: list[Member]\n",
    "    num_parents_pairs: int\n",
    "    elite_size: int\n",
    "    pool_size: int\n",
    "    size: int\n",
    "    fitness_ranking: list[dict]\n",
    "\n",
    "    def __init__(self, generation_members: list[Member], num_parents_pairs: int, elite_size: int, pool_size: int):\n",
    "        \"\"\"Constructor for any Generation inside the GeneticAlgorithm.\n",
    "\n",
    "        Parameters:\n",
    "            generation_members (list[Member]): list of Members to be put in this Generation.\n",
    "            num_parents_pairs (int): number of Members' pairs that can be parents.\n",
    "            elite_size (int): number of Members to be copy-pasted directly into a new Generation.\n",
    "            pool_size (int): parameter for the tournament selection operator.  # TODO: redundant, put it into args in the GeneticAlgorithm class\n",
    "        \"\"\"\n",
    "        self.members = generation_members\n",
    "        self.num_parents_pairs = num_parents_pairs\n",
    "        self.elite_size = elite_size\n",
    "        if 0 < pool_size <= self.num_parents_pairs:\n",
    "            self.pool_size = pool_size\n",
    "        else:\n",
    "            raise ValueError(f\"Pool size = {pool_size} is not between 0 and number of parents mating \"\n",
    "                             f\"({self.num_parents_pairs})\")\n",
    "        self.size = len(generation_members)\n",
    "        self.fitness_ranking = []\n",
    "\n",
    "    def evaluate(self, reverse=True):\n",
    "        \"\"\"This method uses the fitness function stored in members of the generation to create and then sort the fitness\n",
    "        ranking by the computed fitness values; 'reverse' means sorting will be performed from max fitness value to min. This method does not implement multiprocessing!!!\n",
    "\n",
    "        Parameters:\n",
    "            reverse (Bool=True, optional): parameter which decided whether the fitness ranking should be sorted in\n",
    "                ascending order of fitness values (reverse=False) or in descending order (reverse=True), which is\n",
    "                the default.\n",
    "        \"\"\"\n",
    "        for i in range(self.size):\n",
    "            self.fitness_ranking.append(\n",
    "                {'index': i, 'fitness value': self.members[i].evaluate()}\n",
    "            )\n",
    "\n",
    "        self.fitness_ranking.sort(key=sort_dict_by_fit, reverse=reverse)"
   ],
   "metadata": {
    "id": "z7JVvl_ZM4YS",
    "ExecuteTime": {
     "end_time": "2025-04-28T10:10:57.351121Z",
     "start_time": "2025-04-28T10:10:57.343410Z"
    }
   },
   "outputs": [],
   "execution_count": 9
  },
  {
   "cell_type": "markdown",
   "source": [
    "Based on the Generation class we need functions which might work in parallel, i.e. which will work after passing as the target to a Process."
   ],
   "metadata": {
    "id": "eF_i0dyoM99e"
   }
  },
  {
   "cell_type": "code",
   "source": [
    "def _create_rival_generation(id: int, selection: Callable, crossover: Callable, crossover_args: tuple, parent_generation: Generation, fitness_function: Callable, generation_pool: DictProxy):\n",
    "    \"\"\"Method for creating a single new Generation of children based on the parent Generation with selected operators.\n",
    "\n",
    "    Parameters:\n",
    "        id (int): An integer ID mathing the key under which a selection and crossover operators combination is stored in\n",
    "            the operators attribute of the GeneticAlgorithm class.\n",
    "        selection (Callable): Selection operator, a function returning an ordered list of parents to mate.\n",
    "        crossover (Callable): Crossover operator, a function returning two (children) Members based on two provided\n",
    "            (parent) Members.\n",
    "        crossover_args (tuple): All arguments that are required by the crossover operator. Could be None.\n",
    "        parent_generation (Generation): Any Generation containing Members who will be treated as parents to Members\n",
    "            in the Generation created by this function.\n",
    "        fitness_function (Callable): Fitness function for Members evaluation, that is supposed to be passed to each\n",
    "            Member in the new Generation.\n",
    "        generation_pool (DictProxy): A dictionary in shared memory in which all new Generations are supposed to be\n",
    "            stored under the same kay as the selection and crossover operators combination.\n",
    "    \"\"\"\n",
    "    global identification\n",
    "\n",
    "    new_members = []\n",
    "    parents_in_order = selection(parent_generation)\n",
    "\n",
    "    for index in range(parent_generation.num_parents_pairs):\n",
    "        \"\"\"We always take 2 consecutive members from the parents_in_order list and pass them to the crossover\n",
    "        operator to get genomes of new members, for the new generation, to be created.\"\"\"\n",
    "        child1_genome, child2_genome = crossover(\n",
    "            parents_in_order[2 * index],\n",
    "            parents_in_order[2 * index + 1],\n",
    "            crossover_args\n",
    "        )\n",
    "        new_members.append(Member(\n",
    "            genome=child1_genome,\n",
    "            identification_number=identification,\n",
    "            fitness_function=fitness_function)\n",
    "        )\n",
    "        new_members.append(Member(\n",
    "            genome=child2_genome,\n",
    "            identification_number=identification + 1,\n",
    "            fitness_function=fitness_function)\n",
    "        )\n",
    "        identification += 2\n",
    "\n",
    "    new_generation = Generation(\n",
    "        generation_members=new_members,\n",
    "        num_parents_pairs=parent_generation.num_parents_pairs,\n",
    "        elite_size=parent_generation.elite_size,\n",
    "        pool_size=parent_generation.pool_size\n",
    "    )\n",
    "\n",
    "    \"\"\"Generation pool is created as a DictProxy and each process (worker) will add it's Generation under a different\n",
    "    key, so no additional lock is required.\"\"\"\n",
    "    generation_pool[id] = new_generation"
   ],
   "metadata": {
    "id": "UIJP6OUqNK8-",
    "ExecuteTime": {
     "end_time": "2025-04-28T10:10:57.385322Z",
     "start_time": "2025-04-28T10:10:57.378126Z"
    }
   },
   "outputs": [],
   "execution_count": 10
  },
  {
   "cell_type": "code",
   "source": [
    "def _evaluate_members(generation_pool: DictProxy, index_range: list[int], population_size: int):\n",
    "    \"\"\"This function evaluates Members across multiple rival Generations.\n",
    "\n",
    "    Parameters:\n",
    "        generation_pool (DictProxy[int, Generation]): a dictionary in shared memory containing rival Generation created\n",
    "            inside the `GeneticAlgorithm` class, with Members up for evaluation.\n",
    "        index_range (list[int]): list containing single indexes from which ID of a Generation from the generation_pool\n",
    "            and indexes of Members inside it are computed, so that they (Members) can be told to evaluate themselves.\n",
    "        population_size (int): Number of Members in each Generation from the generation_pool.\n",
    "    \"\"\"\n",
    "    for index in index_range:\n",
    "        generation_id = int(np.floor(index / population_size))  # make int from numpy's float 64 ID\n",
    "        member_index = int(index - generation_id * population_size)  # make int from numpy's float 64 ID\n",
    "\n",
    "        \"\"\"Fetch the WHOLE Generation, because the `.members` attr. is \"nested\" and can only be copied,\n",
    "        not USED in SHARED MEMORY\"\"\"\n",
    "        generation = generation_pool[generation_id]\n",
    "        member_to_evaluate = generation.members[member_index]\n",
    "\n",
    "        print(f\"I have member={member_to_evaluate} with fitness function {member_to_evaluate.fit_fun}\")\n",
    "\n",
    "        fitness_value = member_to_evaluate.evaluate()\n",
    "\n",
    "        print(f\"Member number {member_index} from generation {generation_id} has fitness value = {fitness_value}\")\n",
    "        print(f\"Member number {member_index} from generation {generation_id} has fitness value = \"\n",
    "              f\"{member_to_evaluate.fit_val}\")\n",
    "\n",
    "        generation.members[member_index] = member_to_evaluate  # <-- Modify the member\n",
    "        generation.fitness_ranking.append(\n",
    "                {'index': index, 'fitness value': fitness_value}\n",
    "            )\n",
    "        generation_pool[generation_id] = generation  # <-- Save back the whole Generation!!!\n"
   ],
   "metadata": {
    "id": "TLysre_3NN6u",
    "ExecuteTime": {
     "end_time": "2025-04-28T10:10:57.411950Z",
     "start_time": "2025-04-28T10:10:57.404148Z"
    }
   },
   "outputs": [],
   "execution_count": 11
  },
  {
   "cell_type": "markdown",
   "source": "Selection operator:",
   "metadata": {
    "id": "1HuprI4ELnqI"
   }
  },
  {
   "cell_type": "code",
   "metadata": {
    "id": "-lK1vhObLbdL",
    "ExecuteTime": {
     "end_time": "2025-04-28T10:10:57.431384Z",
     "start_time": "2025-04-28T10:10:57.425584Z"
    }
   },
   "source": [
    "def tournament_selection(parent_generation: Generation):\n",
    "    \"\"\"\n",
    "    Performs tournament selection to choose parent candidates for mating.\n",
    "\n",
    "    Args:\n",
    "        parent_generation (Generation): An instance of the Generation class containing members and mating configuration.\n",
    "\n",
    "    Returns:\n",
    "        list[Member]: A list of selected parent candidates.\n",
    "    \"\"\"\n",
    "    parents = []\n",
    "\n",
    "    # Initialize a list to store the best candidates from each tournament\n",
    "    for _ in range(parent_generation.num_parents_pairs * 2):\n",
    "        # Randomly select a subset of members for the tournament\n",
    "        tournament_members = random.sample(parent_generation.members, parent_generation.pool_size)\n",
    "        # Identify the member with the highest fitness value in the tournament\n",
    "        best_member = max(tournament_members, key=lambda mem: mem.fit_val)\n",
    "        # Add the best member from this tournament to the list of selected candidates\n",
    "        parents.append(best_member)\n",
    "\n",
    "    return parents"
   ],
   "outputs": [],
   "execution_count": 12
  },
  {
   "cell_type": "markdown",
   "source": "Crossover operator",
   "metadata": {
    "id": "FaAk1RrvNYwo"
   }
  },
  {
   "cell_type": "code",
   "source": [
    "def single_point_crossover(parent1, parent2, args):\n",
    "    \"\"\"Parents will be crossed such that genes from first one (numbered from 0) up to crossover_point\n",
    "    included shall go to one child, and the rest to the other.\"\"\"\n",
    "\n",
    "    parent1_genes = list(parent1.genome)\n",
    "    parent2_genes = list(parent2.genome)\n",
    "\n",
    "    if args is None:\n",
    "        crossover_point = None\n",
    "    else:\n",
    "        crossover_point = args[0]  # in here we need one argument, so I assume a one-element list... could be be better\n",
    "\n",
    "    if crossover_point is None:\n",
    "        crossover_point = len(parent1_genes) // 2\n",
    "\n",
    "    # Different working with genes whether it's a dict or a list could be implemented\n",
    "\n",
    "    gene_counter = 0\n",
    "    child1_genes = []\n",
    "    child2_genes = []\n",
    "\n",
    "    while gene_counter <= crossover_point:\n",
    "        child1_genes.append(parent1_genes[gene_counter])\n",
    "        child2_genes.append(parent2_genes[gene_counter])\n",
    "        gene_counter += 1\n",
    "\n",
    "    while gene_counter < len(parent1_genes):\n",
    "        child1_genes.append(parent2_genes[gene_counter])\n",
    "        child2_genes.append(parent1_genes[gene_counter])\n",
    "        gene_counter += 1\n",
    "\n",
    "    return [child1_genes, child2_genes]"
   ],
   "metadata": {
    "id": "8eoVf4VcN90l",
    "ExecuteTime": {
     "end_time": "2025-04-28T10:10:57.454268Z",
     "start_time": "2025-04-28T10:10:57.448486Z"
    }
   },
   "outputs": [],
   "execution_count": 13
  },
  {
   "cell_type": "markdown",
   "source": [
    "Finally, the class which realises the GA"
   ],
   "metadata": {
    "id": "Q3eXnmszNaf3"
   }
  },
  {
   "cell_type": "code",
   "source": [
    "class GeneticAlgorithm:\n",
    "    \"\"\"Class with a role of a container for the hierarchical parallel genetic algorithm.\n",
    "\n",
    "    While the fitness evaluation of members from rival Generations is diversified between as many processes operating\n",
    "    in parallel on different processor cores, also creating these rival generations (selection and crossover) is\n",
    "    performed by parallel processes. Processes creating Generations and processes evaluating fitness are independent.\n",
    "\n",
    "    Attributes:\n",
    "        pop_size (int): a constant size of each Generation within the algorithm.\n",
    "        no_generations (int): number of iterations of the algorithm, equal to the number of accepted Generations\n",
    "        elite_size (int): number of the best Members of the current Generation to be copy-pasted into the new one\n",
    "        fit_fun (Callable): function passed to Members of the population and stored as a fit_fun attribute;\n",
    "            returns a float value based on a Member's genome and is used to compare Members, which represents a better\n",
    "            potential solution to a given problem.\n",
    "        genome_gen (Callable): function which returns genome of a single Member, used for initial Generation (first\n",
    "            current and accepted one) and for mutation.\n",
    "        operators (list[tuple[Callable]]): list of operators (selection and crossover) combinations based on which\n",
    "            new, rival Generations of children are to e created from parents in the current Generation in ach iteration.\n",
    "        no_parents_pairs (int): the designated number of parent pairs for future Generations, e.g., if the initial\n",
    "            population size is 1000 and no_parents_pairs = 200, there will be 2 * 200 = 400 children. By default it is\n",
    "            equal to pop_size // 2.\n",
    "        mutation_prob (float): 0.0 by default; probability of selecting a Member of a Generation to reset its genome\n",
    "            with the genome_generator\n",
    "        current_gen (Generation): Members constituting population inside the Genetic Algorithm in a given iteration. It\n",
    "            is the last accepted Generation from the previous iteration or the initial Generation.\n",
    "        workers (list[Process]): dynamical list containing processes from the multiprocessing package, meant to operate\n",
    "            in parallel and either execute creating new Generations or evaluating them.\n",
    "        manager (Manager): Manager ('master') synchronising access of multiple workers to a rival_gen proxy for dict.\n",
    "        rival_gen (DictProxy[int, Generation]): in the Parallel Genetic Algorithm multiple children Generations may be\n",
    "            created based on the current Generation of parents, based on different selection and crossover operators.\n",
    "            These Generations are rival to one another, because only one will be accepted as the best and treated as the\n",
    "            current Generation in the next iteration. In the rival_gen DictProxy each of these rival Generations is\n",
    "            stored with its integer id as a key and parallel processes (workers) may add Generations to it after\n",
    "            acquiring acces through a manager's lock.\n",
    "        accepted_gen (list[Generation]): the best of the rival Generations is added to a list of the accepted\n",
    "            Generations and treated as the current Generation in the next iteration of the algorithm. If there is only\n",
    "            one new, 'rival' Generation, then automatically it is appended to the accepted Generations list+.\n",
    "        best_fit_history (list[float]): List the best Members' fitness values in each of the accepted Generation.\n",
    "        args (dict): dictionary with argument required by the genome generator and all the selection and crossover\n",
    "            operators to work.\n",
    "\n",
    "    What the args dict should look like:\n",
    "    args = {\n",
    "        'genome': (g1, g2, ...),\n",
    "        'selection': [(s11, s12, ...), ..., (sN1, sN2, ...)],\n",
    "        'crossover': [(c11, c12, ...), ..., (cM1, cM2, ...)]\n",
    "    }\n",
    "    Where:\n",
    "        1) g1, g2, etc., are args for the genome_generator func;\n",
    "        2) s11, s12, etc., are args for the 1st selection operator passed in the selection_operators list of func\n",
    "            and sN1, sN2, etc., are args of the Nth selection operator;\n",
    "        3) c11, c12, etc., are args for the 1st crossover operator passed in the crossover_operators list of func\n",
    "            and cM1, cM2, etc., are args of the Mth crossover operator.\n",
    "    \"\"\"\n",
    "    pop_size: int\n",
    "    no_generations: int\n",
    "    elite_size: int\n",
    "    fit_fun: Callable\n",
    "    genome_gen: Callable\n",
    "    operators: dict[int, tuple[Callable]]\n",
    "    no_parents_pairs: int\n",
    "    mutation_prob: float\n",
    "    current_gen: Generation\n",
    "    workers: list[Process] = []\n",
    "    manager: Manager\n",
    "    rival_gen_pool: DictProxy[int, Generation]\n",
    "    accepted_gen_list: list[Generation]\n",
    "    best_fit_history: list[float]\n",
    "    args: dict\n",
    "\n",
    "    def __zip_crossover_selection(self, selection_operators: list[Callable], crossover_operators: list[Callable]):\n",
    "        \"\"\"Creates a dict that combines pairs of elements from 'selection_operators' and 'crossover_operators' with\n",
    "        an ID as key. For each index 'i', it adds tuples to the 'operators_combinations_dict' dict, each tuple\n",
    "        containing 'selection_operator[i]' and 'crossover_operator[j]' for each index 'j' with a unique ID. This way\n",
    "        there are tuples for all combinations of operators, accessible by workers working in parallel under their IDs\n",
    "        as keys.\n",
    "\n",
    "        Parameters:\n",
    "            selection_operators (list[Callable]): list of functions which are selection operators\n",
    "                for the Genetic Algorithm\n",
    "            crossover_operators (list[Callable]): list of functions which are crossover operators\n",
    "                for the Genetic Algorithm\n",
    "\n",
    "        Returns:\n",
    "            dict[int, tuple[Callable]]: dict of (Callable) operators tuples, each representing a combination of\n",
    "            selection and crossover method for creating a new Generation.\n",
    "        \"\"\"\n",
    "        operators_combinations_dict = {}\n",
    "        combination_id = 0\n",
    "        for i in range(len(selection_operators)):\n",
    "            for j in range(len(crossover_operators)):\n",
    "                operators_combinations_dict[combination_id] = (selection_operators[i], crossover_operators[j])\n",
    "                combination_id += 1\n",
    "        return operators_combinations_dict\n",
    "\n",
    "    def __init__(self, initial_pop_size: int, number_of_generations: int, elite_size: int, args: dict,\n",
    "                 fitness_function: Callable, genome_generator: Callable,\n",
    "                 selection: list[Callable] | Callable, crossover: list[Callable] | Callable,\n",
    "                 pool_size, no_parents_pairs=None, mutation_prob=0.0,\n",
    "                 seed=None):  # TODO: put pool_size in the args dict for self.selection_args = args.get('selection') below\n",
    "        \"\"\"GeneticAlgorithm class constructor.\n",
    "\n",
    "        Parameters:\n",
    "            initial_pop_size (int): size of the population (each Generation)\n",
    "            number_of_generations (int): how many consecutive accepted Generations are supposed to be created and\n",
    "                evaluated\n",
    "            elite_size (int): number of the best Members of the current Generation to be copy-pasted into the new one\n",
    "            args (dict): arguments to be used in genome_generator & selection/crossover operators\n",
    "            fitness_function (Callable): func passed to Members of the population and stored as a fit_fun attribute;\n",
    "                returns a float value based on a member's genome\n",
    "            genome_generator (Callable): func which returns genome of a single Member\n",
    "            selection (list[Callable] | Callable): list of func from selection_operators.py for parent selection\n",
    "            crossover (list[Callable] | Callable): list of func from crossover_operators.py for children creation\n",
    "            no_parents_pairs (int): optional; is the designated number of parent pairs for future Generations,\n",
    "                e.g., if the initial population size is 1000 and no_parents_pairs = 200,\n",
    "                there will be 2 * 200 = 400 children\n",
    "            mutation_prob (int): 0.0 by default; probability of selecting a Member of a Generation to reset its genome\n",
    "                with the genome_generator\n",
    "            seed (int | float | str | bytes | bytearray | None = None): optional; parameter 'a' for random.seed\n",
    "        \"\"\"\n",
    "        self.pop_size = initial_pop_size\n",
    "        self.no_generations = number_of_generations\n",
    "        self.elite_size = elite_size\n",
    "\n",
    "        # self.genome_generator_args = args.get('genome')\n",
    "        self.args = args\n",
    "        self.selection_args = args.get('selection')  # TODO: we should stick to using self.args\n",
    "        self.crossover_args = args.get('crossover')  # TODO: we should stick to using self.args\n",
    "\n",
    "        self.fit_fun = fitness_function\n",
    "        self.mutation_prob = mutation_prob\n",
    "        if seed is not None:\n",
    "            random.seed(a=seed)  # useful for debugging\n",
    "\n",
    "        self.manager = Manager()\n",
    "        self.rival_gen_pool = self.manager.dict()\n",
    "\n",
    "        \"\"\"If the provided number of parents pairs would require more Members than the current (initial) generation has,\n",
    "        it'll be limited to the maximum possible number. Also, if no specific number of parent pairs is provided,\n",
    "        the initial population size is assumed to be a constant throughout the whole algorithm.\"\"\"\n",
    "        if no_parents_pairs is None or no_parents_pairs > initial_pop_size // 2:\n",
    "            self.no_parents_pairs = initial_pop_size // 2\n",
    "        else:\n",
    "            self.no_parents_pairs = no_parents_pairs\n",
    "\n",
    "        \"\"\"Even though for the initial population we can pass the genome generator with it's arguments\n",
    "        directly to the __init__ method within the Generation class, we need to memorise it for mutation later on.\"\"\"\n",
    "        self.genome_generator = genome_generator\n",
    "\n",
    "        \"\"\"Based on lists of (callable) function selected by the User from selection_operators.py\n",
    "        and crossover_operators.py, a more general dict is created with all the possible combinations of the operators.\n",
    "        \"\"\"\n",
    "        if type(selection) is not list:\n",
    "            selection = [selection]\n",
    "        if type(crossover) is not list:\n",
    "            crossover = [crossover]\n",
    "\n",
    "        self.operators = self.__zip_crossover_selection(selection_operators=selection, crossover_operators=crossover)\n",
    "        self.pool_size = pool_size  # will be redundant after the selection args are properly handled\n",
    "\n",
    "    def _create_initial_generation(self):\n",
    "        \"\"\"Creating the first - initial - generation in this population.\"\"\"\n",
    "        global identification\n",
    "        first_members = []\n",
    "        for _ in range(self.pop_size):\n",
    "            genes = self.genome_generator(self.args)\n",
    "            first_members.append(Member(\n",
    "                genome=genes,\n",
    "                identification_number=identification,\n",
    "                fitness_function=self.fit_fun)\n",
    "            )\n",
    "            identification += 1\n",
    "        self.current_generation = Generation(\n",
    "            generation_members=first_members,\n",
    "            num_parents_pairs=self.no_parents_pairs,\n",
    "            elite_size=self.elite_size,\n",
    "            pool_size=self.pool_size\n",
    "        )\n",
    "        self.current_generation.evaluate()\n",
    "        self.accepted_gen_list = [self.current_generation]\n",
    "        self.best_fit_history = [self.current_generation.fitness_ranking[0].get('fitness value')]\n",
    "\n",
    "    def best_solution(self):\n",
    "        \"\"\"Returns genome of Member with the highest fitness value with it's fitness value, from the current Generation.\n",
    "\n",
    "        Returns:\n",
    "            tuple[type[list | dict], float]: tuple of the genome list/dict of the best Member and it's float fit. value\n",
    "        \"\"\"\n",
    "        bf = (self.current_generation.members[self.current_generation.fitness_ranking[0].get('index')].genome,\n",
    "              self.current_generation.fitness_ranking[0].get('fitness value'))\n",
    "        return bf\n",
    "\n",
    "    def _choose_best_rival_generation(self):\n",
    "        \"\"\"This method selects one of the rival generations from the rival_gen dict, based on the highest max fitness\n",
    "        value, to be accepted as a new current generation.\"\"\"\n",
    "        fitness_comparison = {}\n",
    "        for id_of_rival, generation in self.rival_gen_pool.items():\n",
    "            fitness_comparison[id_of_rival] = generation.fitness_ranking[0].get('fitness value')\n",
    "        self.current_generation = self.rival_gen_pool.get(max(fitness_comparison, key=fitness_comparison.get))\n",
    "        self.accepted_gen_list.append(self.current_generation)\n",
    "        self.best_fit_history.append(self.current_generation.fitness_ranking[0].get('fitness value'))\n",
    "\n",
    "    def mutate(self):\n",
    "        \"\"\"Mutation probability is the probability of 'resetting' a member of the current generation, i.e. changing\n",
    "        it genome randomly. For optimisation purposes instead of a loop over the whole generation, I calculate the\n",
    "        number of members to be mutated and then generate pseudo-randomly a list of member indexes in the current\n",
    "        generation to be mutated.\n",
    "        \"\"\"\n",
    "        number_of_mutations = np.floor(self.mutation_prob * self.current_generation.size)\n",
    "\n",
    "        \"\"\"Size of generation is a constant, it has to be adjusted to the lack of elite; the elite Members are not\n",
    "        supposed to be mutated. Additionally, number of mutations has to be an integer, e.g.,\n",
    "        half of a mutation cannot be performed.\n",
    "        \"\"\"\n",
    "        indexes = random.sample(\n",
    "            range(self.current_generation.size - self.elite_size),\n",
    "            int(number_of_mutations)  # has to be an integer, e.g. you can't make half of a mutation\n",
    "        )\n",
    "\n",
    "        \"\"\"For new (mutated) genome creation I use the generator passed to the superclass in it's initialisation:\"\"\"\n",
    "        for index in indexes:\n",
    "            self.current_generation.members[index].change_genes(\n",
    "                self.genome_generator(self.args)\n",
    "            )\n",
    "\n",
    "    def run(self):\n",
    "        \"\"\"This is the main method for an automated run of the Genetic Algorithm, supposed to be used right after this\n",
    "        class' instance initialisation. It creates the initial Generation and then performs the `no_generations`\n",
    "        iterations of creating new/rival Generations, choosing the best one and mutation, if necessary.\"\"\"\n",
    "        print(f\"\\nCreating initial population\\n\")\n",
    "        self._create_initial_generation()\n",
    "\n",
    "        # For testing:\n",
    "        for member in self.current_generation.members:\n",
    "            print(member.fit_val)\n",
    "\n",
    "        operator_combinations_ids = list(self.operators.keys())\n",
    "\n",
    "        with self.manager:\n",
    "            for _ in range(self.no_generations):\n",
    "                \"\"\"Rival generations are created based on accessible combinations of selection and crossover\n",
    "                operators with different processes in parallel:\"\"\"\n",
    "                print(f\"\\nCreating rival generations\\n\")\n",
    "                for combination_id in operator_combinations_ids:\n",
    "                    new_worker = Process(\n",
    "                        target=_create_rival_generation,\n",
    "                        args=(\n",
    "                            combination_id,  # id\n",
    "                            self.operators.get(combination_id)[0],  # selection\n",
    "                            self.operators.get(combination_id)[1],  # crossover\n",
    "                            self.args.get('crossover'),  # crossover_args\n",
    "                            self.current_generation,  # parent_generation\n",
    "                            self.fit_fun,  # fitness_function\n",
    "                            self.rival_gen_pool  # generation_pool\n",
    "                        )\n",
    "                    )\n",
    "                    new_worker.start()\n",
    "                    self.workers.append(new_worker)\n",
    "\n",
    "                \"\"\"After work done, processes are collected and their list reset for new batch of workers:\"\"\"\n",
    "                for worker in self.workers:\n",
    "                    worker.join()\n",
    "\n",
    "                \"\"\"\n",
    "                #Just for testing:\n",
    "                new_members = self.rival_gen_pool.get(0).members\n",
    "                for member in new_members:\n",
    "                    print(member.genome)\n",
    "                \"\"\"\n",
    "\n",
    "                self.workers = []\n",
    "\n",
    "                \"\"\"For fitness evaluation as many workers as the CPU allows are created. All members are distributed\n",
    "                 between these processes to be evaluated:\"\"\"\n",
    "                print(f\"\\nEvaluating fitness of the rival generations\\n\")\n",
    "                no_workers = cpu_count()\n",
    "                print(f\"We have {no_workers} workers.\")\n",
    "                no_members = self.pop_size * len(self.rival_gen_pool)\n",
    "                print(f\"We have {no_members} members to evaluate.\")\n",
    "\n",
    "                members_per_worker = no_members / no_workers\n",
    "                if members_per_worker <= 1:\n",
    "                    no_workers = int(no_members)\n",
    "\n",
    "                indexes_batches = split_indexes(num_members=no_members, num_workers=no_workers)\n",
    "\n",
    "                for index in range(no_workers):\n",
    "                    indexes_of_members_to_evaluate = indexes_batches[index]\n",
    "                    print(f\"For step={index} we have indexes={indexes_of_members_to_evaluate}\")\n",
    "                    new_worker = Process(\n",
    "                        target=_evaluate_members,  # now there's a problem with the function, not with multiprocessing\n",
    "                        args=(\n",
    "                            self.rival_gen_pool,\n",
    "                            indexes_of_members_to_evaluate,\n",
    "                            self.pop_size\n",
    "                        )\n",
    "                    )\n",
    "                    new_worker.start()\n",
    "                    self.workers.append(new_worker)\n",
    "\n",
    "                \"\"\"After evaluation, processes are again joined:\"\"\"\n",
    "                for worker in self.workers:\n",
    "                    worker.join()\n",
    "\n",
    "                \"\"\"\n",
    "                # Just for testing:\n",
    "                new_members = self.rival_gen_pool.get(0).members\n",
    "                for member in new_members:\n",
    "                    print(member.fit_val)\n",
    "                \"\"\"\n",
    "\n",
    "                \"\"\"Reset workers\"\"\"\n",
    "                self.workers = []\n",
    "\n",
    "                \"\"\"Rebuild fitness ranking for each Generation\"\"\"\n",
    "                for gen_id, generation in self.rival_gen_pool.items():\n",
    "                    generation.fitness_ranking = []\n",
    "                    for i, member in enumerate(generation.members):\n",
    "                        if member.fit_val is None:\n",
    "                            print(f\"Skipping member {i} in Generation {gen_id} due to None fitness!\")\n",
    "                            continue  # <-- skip if fitness is None\n",
    "                        generation.fitness_ranking.append({'index': i, 'fitness value': member.fit_val})\n",
    "                    if generation.fitness_ranking:\n",
    "                        generation.fitness_ranking.sort(key=sort_dict_by_fit, reverse=True)\n",
    "                    else:\n",
    "                        print(f\"Warning: Generation {gen_id} has no valid members to rank!\")\n",
    "                    self.rival_gen_pool[gen_id] = generation  # reassign updated generation\n",
    "\n",
    "                \"\"\"Last stage of each iteration is to choose the next accepted Generation and mutate it:\"\"\"\n",
    "                self._choose_best_rival_generation()\n",
    "                self.mutate()"
   ],
   "metadata": {
    "id": "ZzaJFJB1NdwD",
    "ExecuteTime": {
     "end_time": "2025-04-28T10:10:57.496631Z",
     "start_time": "2025-04-28T10:10:57.476620Z"
    }
   },
   "outputs": [],
   "execution_count": 14
  },
  {
   "cell_type": "markdown",
   "source": [
    "This is the function we want to optimise"
   ],
   "metadata": {
    "id": "RNYBoR4mOTJY"
   }
  },
  {
   "cell_type": "code",
   "source": [
    "def endurance(x, y, z, u, v, w):\n",
    "    \"\"\"Function to be optimised\"\"\"\n",
    "    return math.exp(-2 * (y - math.sin(x)) ** 2) + math.sin(z * u) + math.cos(v * w)"
   ],
   "metadata": {
    "id": "8hslfDWxOVdL",
    "ExecuteTime": {
     "end_time": "2025-04-28T10:10:57.517533Z",
     "start_time": "2025-04-28T10:10:57.512170Z"
    }
   },
   "outputs": [],
   "execution_count": 15
  },
  {
   "cell_type": "markdown",
   "source": [
    "These are fitness functions for either PyGAD or our code (inspired by PyQKD)"
   ],
   "metadata": {
    "id": "7qu8Rk3vOY6h"
   }
  },
  {
   "cell_type": "code",
   "source": [
    "def fitness_function_pygad(genetic_algorithm_instance, chromosome, chromosome_idx):\n",
    "    x = chromosome[0]\n",
    "    y = chromosome[1]\n",
    "    z = chromosome[2]\n",
    "    u = chromosome[3]\n",
    "    v = chromosome[4]\n",
    "    w = chromosome[5]\n",
    "\n",
    "    fitness_value = endurance(x=x, y=y, z=z, u=u, w=w, v=v)\n",
    "\n",
    "    return fitness_value\n",
    "\n",
    "\n",
    "def fitness_function_pyqkd(chromosome):\n",
    "    x = chromosome[0]\n",
    "    y = chromosome[1]\n",
    "    z = chromosome[2]\n",
    "    u = chromosome[3]\n",
    "    v = chromosome[4]\n",
    "    w = chromosome[5]\n",
    "\n",
    "    fitness_value = endurance(x=x, y=y, z=z, u=u, w=w, v=v)\n",
    "\n",
    "    return fitness_value"
   ],
   "metadata": {
    "id": "21NUOmajOebF",
    "ExecuteTime": {
     "end_time": "2025-04-28T10:10:57.538601Z",
     "start_time": "2025-04-28T10:10:57.531976Z"
    }
   },
   "outputs": [],
   "execution_count": 16
  },
  {
   "cell_type": "markdown",
   "source": [
    "First let's see how PyGAD behaves:"
   ],
   "metadata": {
    "id": "audMAcUJOiDl"
   }
  },
  {
   "cell_type": "code",
   "source": [
    "if __name__ == '__main__':\n",
    "    \"\"\"Firstly, solving problem with pygad:\"\"\"\n",
    "    ga_instance = pygad.GA(\n",
    "        gene_space=np.linspace(start=0, stop=1, num=100000),\n",
    "        num_generations=70,\n",
    "        num_parents_mating=10,\n",
    "        fitness_func=fitness_function_pygad,\n",
    "        sol_per_pop=20,\n",
    "        num_genes=6,\n",
    "        parent_selection_type='tournament',\n",
    "        mutation_type='random',\n",
    "        mutation_probability=float(1 / 6),\n",
    "        stop_criteria=['reach_2.83', 'saturate_15']\n",
    "    )\n",
    "\n",
    "    ga_instance.run()\n",
    "\n",
    "    solution, solution_fitness, solution_idx = ga_instance.best_solution()\n",
    "    generations_number = ga_instance.best_solution_generation\n",
    "\n",
    "    print(f\"Best solution: {solution}\")\n",
    "    print(f\"Fitness value of the best solution: {solution_fitness}\")\n",
    "    print(f\"It took {generations_number} generations to find an optimal solution.\")\n",
    "\n",
    "    #  ga_instance.plot_fitness()"
   ],
   "metadata": {
    "colab": {
     "base_uri": "https://localhost:8080/"
    },
    "id": "UljQCx2LOmlD",
    "outputId": "f605d06a-c8eb-4650-f377-1665f4fb9139",
    "ExecuteTime": {
     "end_time": "2025-04-28T10:11:36.281273Z",
     "start_time": "2025-04-28T10:10:57.555750Z"
    }
   },
   "outputs": [
    {
     "name": "stdout",
     "output_type": "stream",
     "text": [
      "Best solution: [0.42485425 0.40916409 0.99209992 0.97631976 0.74062741 0.01322013]\n",
      "Fitness value of the best solution: 2.8240310939186517\n",
      "It took 51 generations to find an optimal solution.\n"
     ]
    }
   ],
   "execution_count": 17
  },
  {
   "cell_type": "markdown",
   "source": [
    "Now, let's test our code (at least partially):"
   ],
   "metadata": {
    "id": "ID42E7nVOzSn"
   }
  },
  {
   "cell_type": "code",
   "source": [
    "if __name__ == '__main__':\n",
    "    \"\"\"Secondly, approach with our GeneticAlgorithm:\"\"\"\n",
    "    new_ga_instance = GeneticAlgorithm(\n",
    "        initial_pop_size=12,\n",
    "        number_of_generations=5,\n",
    "        elite_size=0,\n",
    "        args={\n",
    "            'genome': (np.linspace(start=0, stop=1, num=100000), 6),  # six genes\n",
    "            'selection': 4,  # pool size for the tournament selection operator\n",
    "            'crossover': None  # for single point crossover operator\n",
    "        },\n",
    "        fitness_function=fitness_function_pyqkd,\n",
    "        genome_generator=uniform_gene_generator,\n",
    "        selection=tournament_selection,\n",
    "        crossover=single_point_crossover,\n",
    "        pool_size=4,  # we could find a better value for this\n",
    "        no_parents_pairs=6,  # has to be even for now\n",
    "        mutation_prob=float(1 / 6)\n",
    "    )\n",
    "    new_ga_instance.run()\n",
    "\n",
    "    print(f\"Our code returned {new_ga_instance.best_solution()}\")"
   ],
   "metadata": {
    "colab": {
     "base_uri": "https://localhost:8080/"
    },
    "id": "c_ljxdCfO2Ol",
    "outputId": "55d5bc31-4e2d-4c3b-f0dd-6ede2c17996e",
    "ExecuteTime": {
     "end_time": "2025-04-28T10:11:37.270729Z",
     "start_time": "2025-04-28T10:11:36.318898Z"
    }
   },
   "outputs": [
    {
     "name": "stdout",
     "output_type": "stream",
     "text": [
      "\n",
      "Creating initial population\n",
      "\n",
      "1.86016167310874\n",
      "2.2633788403338415\n",
      "2.172950400498163\n",
      "2.409512541776174\n",
      "1.5437848495442492\n",
      "1.6787739421639427\n",
      "2.057052688084332\n",
      "1.7802605166686774\n",
      "2.2578816041007186\n",
      "1.540188208059686\n",
      "1.742910081444736\n",
      "2.2036675071640124\n",
      "\n",
      "Creating rival generations\n",
      "\n",
      "\n",
      "Evaluating fitness of the rival generations\n",
      "\n",
      "We have 8 workers.\n",
      "We have 0 members to evaluate.\n"
     ]
    },
    {
     "ename": "ValueError",
     "evalue": "max() iterable argument is empty",
     "output_type": "error",
     "traceback": [
      "\u001B[31m---------------------------------------------------------------------------\u001B[39m",
      "\u001B[31mValueError\u001B[39m                                Traceback (most recent call last)",
      "\u001B[36mCell\u001B[39m\u001B[36m \u001B[39m\u001B[32mIn[18]\u001B[39m\u001B[32m, line 20\u001B[39m\n\u001B[32m      2\u001B[39m \u001B[38;5;250m\u001B[39m\u001B[33;03m\"\"\"Secondly, approach with our GeneticAlgorithm:\"\"\"\u001B[39;00m\n\u001B[32m      3\u001B[39m new_ga_instance = GeneticAlgorithm(\n\u001B[32m      4\u001B[39m     initial_pop_size=\u001B[32m12\u001B[39m,\n\u001B[32m      5\u001B[39m     number_of_generations=\u001B[32m5\u001B[39m,\n\u001B[32m   (...)\u001B[39m\u001B[32m     18\u001B[39m     mutation_prob=\u001B[38;5;28mfloat\u001B[39m(\u001B[32m1\u001B[39m / \u001B[32m6\u001B[39m)\n\u001B[32m     19\u001B[39m )\n\u001B[32m---> \u001B[39m\u001B[32m20\u001B[39m \u001B[43mnew_ga_instance\u001B[49m\u001B[43m.\u001B[49m\u001B[43mrun\u001B[49m\u001B[43m(\u001B[49m\u001B[43m)\u001B[49m\n\u001B[32m     22\u001B[39m \u001B[38;5;28mprint\u001B[39m(\u001B[33mf\u001B[39m\u001B[33m\"\u001B[39m\u001B[33mOur code returned \u001B[39m\u001B[38;5;132;01m{\u001B[39;00mnew_ga_instance.best_solution()\u001B[38;5;132;01m}\u001B[39;00m\u001B[33m\"\u001B[39m)\n",
      "\u001B[36mCell\u001B[39m\u001B[36m \u001B[39m\u001B[32mIn[14]\u001B[39m\u001B[32m, line 330\u001B[39m, in \u001B[36mGeneticAlgorithm.run\u001B[39m\u001B[34m(self)\u001B[39m\n\u001B[32m    327\u001B[39m     \u001B[38;5;28mself\u001B[39m.rival_gen_pool[gen_id] = generation  \u001B[38;5;66;03m# reassign updated generation\u001B[39;00m\n\u001B[32m    329\u001B[39m \u001B[38;5;250m\u001B[39m\u001B[33;03m\"\"\"Last stage of each iteration is to choose the next accepted Generation and mutate it:\"\"\"\u001B[39;00m\n\u001B[32m--> \u001B[39m\u001B[32m330\u001B[39m \u001B[38;5;28;43mself\u001B[39;49m\u001B[43m.\u001B[49m\u001B[43m_choose_best_rival_generation\u001B[49m\u001B[43m(\u001B[49m\u001B[43m)\u001B[49m\n\u001B[32m    331\u001B[39m \u001B[38;5;28mself\u001B[39m.mutate()\n",
      "\u001B[36mCell\u001B[39m\u001B[36m \u001B[39m\u001B[32mIn[14]\u001B[39m\u001B[32m, line 199\u001B[39m, in \u001B[36mGeneticAlgorithm._choose_best_rival_generation\u001B[39m\u001B[34m(self)\u001B[39m\n\u001B[32m    197\u001B[39m \u001B[38;5;28;01mfor\u001B[39;00m id_of_rival, generation \u001B[38;5;129;01min\u001B[39;00m \u001B[38;5;28mself\u001B[39m.rival_gen_pool.items():\n\u001B[32m    198\u001B[39m     fitness_comparison[id_of_rival] = generation.fitness_ranking[\u001B[32m0\u001B[39m].get(\u001B[33m'\u001B[39m\u001B[33mfitness value\u001B[39m\u001B[33m'\u001B[39m)\n\u001B[32m--> \u001B[39m\u001B[32m199\u001B[39m \u001B[38;5;28mself\u001B[39m.current_generation = \u001B[38;5;28mself\u001B[39m.rival_gen_pool.get(\u001B[38;5;28;43mmax\u001B[39;49m\u001B[43m(\u001B[49m\u001B[43mfitness_comparison\u001B[49m\u001B[43m,\u001B[49m\u001B[43m \u001B[49m\u001B[43mkey\u001B[49m\u001B[43m=\u001B[49m\u001B[43mfitness_comparison\u001B[49m\u001B[43m.\u001B[49m\u001B[43mget\u001B[49m\u001B[43m)\u001B[49m)\n\u001B[32m    200\u001B[39m \u001B[38;5;28mself\u001B[39m.accepted_gen_list.append(\u001B[38;5;28mself\u001B[39m.current_generation)\n\u001B[32m    201\u001B[39m \u001B[38;5;28mself\u001B[39m.best_fit_history.append(\u001B[38;5;28mself\u001B[39m.current_generation.fitness_ranking[\u001B[32m0\u001B[39m].get(\u001B[33m'\u001B[39m\u001B[33mfitness value\u001B[39m\u001B[33m'\u001B[39m))\n",
      "\u001B[31mValueError\u001B[39m: max() iterable argument is empty"
     ]
    }
   ],
   "execution_count": 18
  }
 ]
}
